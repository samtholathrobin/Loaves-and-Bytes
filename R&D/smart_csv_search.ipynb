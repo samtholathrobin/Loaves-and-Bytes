{
 "cells": [
  {
   "cell_type": "code",
   "execution_count": 1,
   "id": "5cd0bb93",
   "metadata": {},
   "outputs": [],
   "source": [
    "import pandas as pd\n",
    "import numpy as np\n",
    "from typing import List\n",
    "from langchain_ollama import OllamaEmbeddings\n",
    "from langchain_community.vectorstores import FAISS\n",
    "from langchain.docstore.document import Document"
   ]
  },
  {
   "cell_type": "code",
   "execution_count": 2,
   "id": "41b17165",
   "metadata": {},
   "outputs": [],
   "source": [
    "menu_df = pd.read_csv(\"Menus/menu1.csv\")"
   ]
  },
  {
   "cell_type": "code",
   "execution_count": 10,
   "id": "7738463d",
   "metadata": {},
   "outputs": [],
   "source": [
    "documents = [\n",
    "    Document(\n",
    "        page_content=f\"{row['name']}. {row['description']}. Category: {row['category']}.\",\n",
    "        metadata={\n",
    "            \"id\": row[\"id\"],\n",
    "            \"description\": row[\"description\"],\n",
    "            \"name\": row[\"name\"],\n",
    "            \"price\": row[\"price\"],\n",
    "            \"category\": row[\"category\"],\n",
    "            \"tags\": row[\"tags\"]\n",
    "        }\n",
    "    )\n",
    "    for _, row in menu_df.iterrows()\n",
    "]\n",
    "\n",
    "embedding_model_nomic = OllamaEmbeddings(model = 'nomic-embed-text')\n",
    "menu_vector_store = FAISS.from_documents(documents, embedding_model_nomic)"
   ]
  },
  {
   "cell_type": "code",
   "execution_count": 12,
   "id": "50c15eff",
   "metadata": {},
   "outputs": [],
   "source": [
    "menu_vector_store.save_local(\"borcelle_faiss_store\")"
   ]
  },
  {
   "cell_type": "code",
   "execution_count": 15,
   "id": "6b49a0e3",
   "metadata": {},
   "outputs": [],
   "source": [
    "faiss_vectorstore = FAISS.load_local(\"borcelle_faiss_store\", embedding_model_nomic, allow_dangerous_deserialization=True)"
   ]
  },
  {
   "cell_type": "code",
   "execution_count": null,
   "id": "9205fe46",
   "metadata": {},
   "outputs": [],
   "source": [
    "def semantic_filter(\n",
    "    query: str,\n",
    "    vector_store: FAISS,\n",
    "    embedding_model: OllamaEmbeddings,\n",
    "    threshold: np.float32 = 0.1,\n",
    "    k: int = 10\n",
    "    ) -> List[Document]:\n",
    "\n",
    "    \"\"\"\n",
    "    Perform a semantic search and filter by similarity threshold.\n",
    "    Returns a list of tuples: (menu item name, similarity score, page content).\n",
    "    \"\"\"\n",
    "    \n",
    "    # Step 1: Embed query\n",
    "    query_vector = embedding_model.embed_query(query)\n",
    "\n",
    "    # Step 2: Search using FAISS\n",
    "    D, I = vector_store.index.search(np.array([query_vector]), k=k)\n",
    "    similarities = 1 - D[0]  # Convert distance to similarity\n",
    "\n",
    "    # Step 3: Filter results above threshold\n",
    "    results = []\n",
    "    for i, sim in zip(I[0], similarities):\n",
    "        if sim >= threshold:\n",
    "            doc_id = vector_store.index_to_docstore_id[i]\n",
    "            doc = vector_store.docstore._dict[doc_id]\n",
    "            results.append(doc)\n",
    "    \n",
    "    return results"
   ]
  },
  {
   "cell_type": "code",
   "execution_count": 17,
   "id": "697e4ca9",
   "metadata": {},
   "outputs": [],
   "source": [
    "def search_menu(user_query, category_filter=None, tags_filter=None):\n",
    "\n",
    "    # Semantic similarity search\n",
    "    if user_query:\n",
    "        results = semantic_filter(\n",
    "            query=user_query,\n",
    "            vector_store=menu_vector_store,\n",
    "            embedding_model=embedding_model_nomic,\n",
    "            threshold=0.2,\n",
    "            k=15\n",
    "        )\n",
    "\n",
    "    else:\n",
    "    # If no query, return all documents\n",
    "        results = list(menu_vector_store.docstore._dict.values())\n",
    "\n",
    "\n",
    "    if category_filter:\n",
    "        results = [doc for doc in results if doc.metadata[\"category\"].lower() == category_filter.lower()]\n",
    "\n",
    "    if tags_filter:\n",
    "        results = [doc for doc in results if tags_filter.lower() in [tag.lower() for tag in doc.metadata[\"tags\"].split(\",\")]]\n",
    "\n",
    "    return results"
   ]
  },
  {
   "cell_type": "code",
   "execution_count": 19,
   "id": "07cf057c",
   "metadata": {},
   "outputs": [
    {
     "name": "stdout",
     "output_type": "stream",
     "text": [
      "Heavenly Herb Chicken\t14.99\n",
      "Roasted chicken with thyme and garlic butter\n",
      "\n",
      "Chicken Tikka Masala\t14.75\n",
      "Grilled chicken in creamy tomato curry\n",
      "\n",
      "Chicken Manchurian\t12.99\n",
      "Fried chicken tossed in Indo-Chinese gravy\n",
      "\n",
      "Kung Pao Chicken\t13.99\n",
      "Spicy stir-fried chicken with peanuts and vegetables\n",
      "\n",
      "Chicken Fried Rice\t11.25\n",
      "Fried rice with chicken, egg, and vegetables\n",
      "\n"
     ]
    }
   ],
   "source": [
    "response = search_menu(user_query =\"chicken\", category_filter=None, tags_filter=None)  # Example usage\n",
    "for i in [r.metadata['name']+'\\t'+str(r.metadata['price'])+'\\n'+r.metadata['description']+'\\n' for r in response]:  # Print names of the filtered results\n",
    "    print(i)"
   ]
  },
  {
   "cell_type": "code",
   "execution_count": null,
   "id": "9f0d312a",
   "metadata": {},
   "outputs": [],
   "source": []
  },
  {
   "cell_type": "code",
   "execution_count": null,
   "id": "372969f6",
   "metadata": {},
   "outputs": [],
   "source": []
  }
 ],
 "metadata": {
  "kernelspec": {
   "display_name": "menu-maker-500",
   "language": "python",
   "name": "python3"
  },
  "language_info": {
   "codemirror_mode": {
    "name": "ipython",
    "version": 3
   },
   "file_extension": ".py",
   "mimetype": "text/x-python",
   "name": "python",
   "nbconvert_exporter": "python",
   "pygments_lexer": "ipython3",
   "version": "3.11.9"
  }
 },
 "nbformat": 4,
 "nbformat_minor": 5
}
